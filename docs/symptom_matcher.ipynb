{
 "cells": [
  {
   "cell_type": "code",
   "execution_count": 1,
   "outputs": [],
   "source": [
    "def string_to_list(input_string: str):\n",
    "    import json\n",
    "    if len(input_string.strip()) > 1:\n",
    "        temp = input_string.replace(\"'\", \"\\\"\").lower()\n",
    "        list_result = json.loads(temp)\n",
    "        return list(set(list_result))\n",
    "    else:\n",
    "        return []\n",
    "\n"
   ],
   "metadata": {
    "collapsed": false,
    "pycharm": {
     "name": "#%%\n"
    }
   }
  },
  {
   "cell_type": "code",
   "execution_count": 2,
   "outputs": [],
   "source": [
    "def filter_fn(row, symptoms):\n",
    "    count = 0\n",
    "    for s in symptoms:\n",
    "        if s in row['symptom_list']:\n",
    "            count = count + 1\n",
    "        # else:\n",
    "        #     return False\n",
    "    return count\n",
    "\n"
   ],
   "metadata": {
    "collapsed": false,
    "pycharm": {
     "name": "#%%\n"
    }
   }
  },
  {
   "cell_type": "code",
   "execution_count": 18,
   "outputs": [
    {
     "name": "stderr",
     "output_type": "stream",
     "text": [
      "C:\\Users\\developer\\AppData\\Local\\Temp\\ipykernel_21364\\199679024.py:9: SettingWithCopyWarning: \n",
      "A value is trying to be set on a copy of a slice from a DataFrame.\n",
      "Try using .loc[row_indexer,col_indexer] = value instead\n",
      "\n",
      "See the caveats in the documentation: https://pandas.pydata.org/pandas-docs/stable/user_guide/indexing.html#returning-a-view-versus-a-copy\n",
      "  dis_sym[\"score\"] = dis_sym.apply(filter_fn, symptoms=symptom_list, axis=1)\n"
     ]
    },
    {
     "data": {
      "text/plain": "{'Heatstroke': {'symptom_list': ['vomiting',\n   'vomit',\n   'headache',\n   'heatstroke',\n   'confusion agitation slurred speech irritability delirium seizures',\n   'coma',\n   'nausea',\n   'head neck armpits'],\n  'score': 2},\n 'Juvenile fibromyalgia': {'symptom_list': ['ache',\n   'sleep disturbances',\n   'infection',\n   'restless legs syndrome',\n   'cramping',\n   'headaches',\n   'anxiety',\n   'sleep disorders',\n   'headache',\n   'sleep apnea',\n   'trauma',\n   'depression',\n   'cognitive impairment',\n   'fibromyalgia symptoms',\n   'fatigue',\n   'fibromyalgia',\n   'pain'],\n  'score': 2},\n 'Sex headaches': {'symptom_list': ['ache', 'headache', 'headaches'],\n  'score': 2},\n 'Traumatic brain injury': {'symptom_list': ['blurred vision',\n   'vomiting',\n   'depressed mood drowsiness loss of interest in favorite toys or',\n   'loss of consciousness',\n   'anxious loss of consciousness',\n   'brain injuries',\n   'headache',\n   'disorders of consciousness change in eating or nursing habits unusual or easy',\n   'confusion',\n   'traumatic',\n   'seizures',\n   'depressed',\n   'numbness',\n   'loss of balance sensory problems',\n   'confusion agitation combativeness',\n   'head injury',\n   'sleep weakness',\n   'traumatic injury',\n   'dizziness',\n   'traumatic brain injuries',\n   'speech difficulty sleeping sleeping more than usual',\n   'injury to the brain',\n   'nausea convulsions',\n   'headaches',\n   'traumatic brain injury',\n   'drowsiness',\n   'headache nausea or vomiting fatigue',\n   'coma',\n   'irritability'],\n  'score': 2}}"
     },
     "execution_count": 18,
     "metadata": {},
     "output_type": "execute_result"
    }
   ],
   "source": [
    "def get_matching_diseases(symptom_list):\n",
    "    import pandas as pd\n",
    "    data = pd.read_excel('disease_data/df_diseases_processed.xlsx')\n",
    "    data[['name', 'symptom_list']]\n",
    "    data['symptom_list'] = data['symptom_list'].apply(string_to_list)\n",
    "    dis_sym = data[['symptom_list', 'name']]\n",
    "    dis_sym\n",
    "    # symptom_list=[\"fever\", \"itch\",\"fatigue\"]\n",
    "    dis_sym[\"score\"] = dis_sym.apply(filter_fn, symptoms=symptom_list, axis=1)\n",
    "    result = dis_sym[dis_sym[\"score\"] > 0]\n",
    "    # result.sort_values(by=[\"score\",\"name\"],ascending=False)\n",
    "    result = result[result['score'] == result['score'].max()].sort_values(by=[\"score\",\"name\"])\n",
    "    return result.set_index('name').to_dict('index')\n",
    "\n",
    "\n",
    "symptom_list = ['headache', 'coma', 'ache']\n",
    "result = get_matching_diseases(symptom_list)\n",
    "result"
   ],
   "metadata": {
    "collapsed": false,
    "pycharm": {
     "name": "#%%\n"
    }
   }
  },
  {
   "cell_type": "code",
   "execution_count": 22,
   "outputs": [
    {
     "data": {
      "text/plain": "4"
     },
     "execution_count": 22,
     "metadata": {},
     "output_type": "execute_result"
    }
   ],
   "source": [
    "len(result)"
   ],
   "metadata": {
    "collapsed": false,
    "pycharm": {
     "name": "#%%\n"
    }
   }
  },
  {
   "cell_type": "code",
   "execution_count": 26,
   "outputs": [
    {
     "data": {
      "text/plain": "['Heatstroke',\n 'Juvenile fibromyalgia',\n 'Sex headaches',\n 'Traumatic brain injury']"
     },
     "execution_count": 26,
     "metadata": {},
     "output_type": "execute_result"
    }
   ],
   "source": [
    "list(result.keys())"
   ],
   "metadata": {
    "collapsed": false,
    "pycharm": {
     "name": "#%%\n"
    }
   }
  }
 ],
 "metadata": {
  "kernelspec": {
   "display_name": "Python 3",
   "language": "python",
   "name": "python3"
  },
  "language_info": {
   "codemirror_mode": {
    "name": "ipython",
    "version": 2
   },
   "file_extension": ".py",
   "mimetype": "text/x-python",
   "name": "python",
   "nbconvert_exporter": "python",
   "pygments_lexer": "ipython2",
   "version": "2.7.6"
  }
 },
 "nbformat": 4,
 "nbformat_minor": 0
}