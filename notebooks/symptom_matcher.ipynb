{
 "cells": [
  {
   "cell_type": "code",
   "execution_count": 1,
   "outputs": [],
   "source": [
    "def string_to_list(input_string: str):\n",
    "    import json\n",
    "    if len(input_string.strip()) > 1:\n",
    "        temp = input_string.replace(\"'\", \"\\\"\").lower()\n",
    "        list_result = json.loads(temp)\n",
    "        return list(set(list_result))\n",
    "    else:\n",
    "        return []\n",
    "\n"
   ],
   "metadata": {
    "collapsed": false,
    "pycharm": {
     "name": "#%%\n"
    }
   }
  },
  {
   "cell_type": "code",
   "execution_count": 2,
   "outputs": [],
   "source": [
    "def filter_fn(row, symptoms):\n",
    "    count = 0\n",
    "    for s in symptoms:\n",
    "        if s in row['symptom_list']:\n",
    "            count = count + 1\n",
    "        # else:\n",
    "        #     return False\n",
    "    return count\n",
    "\n"
   ],
   "metadata": {
    "collapsed": false,
    "pycharm": {
     "name": "#%%\n"
    }
   }
  },
  {
   "cell_type": "code",
   "execution_count": 3,
   "outputs": [],
   "source": [
    "import pandas as pd\n",
    "data = pd.read_csv('disease_data/df_diseases_processed.csv')"
   ],
   "metadata": {
    "collapsed": false,
    "pycharm": {
     "name": "#%%\n"
    }
   }
  },
  {
   "cell_type": "code",
   "execution_count": null,
   "outputs": [],
   "source": [
    "data['symptom_list'] = data['symptom_list'].apply(string_to_list)\n",
    "dis_sym = data[['symptom_list', 'name']]"
   ],
   "metadata": {
    "collapsed": false,
    "pycharm": {
     "name": "#%%\n"
    }
   }
  },
  {
   "cell_type": "code",
   "execution_count": 16,
   "outputs": [
    {
     "data": {
      "text/plain": "                                           symptom_list  \\\n0                          [itch, acanthosis nigricans]   \n1     [pain, inability to bend the foot downward or ...   \n2     [chest pain angina, diabetes, dyspnea, chest p...   \n3     [prolonged menstrual bleeding, pelvic pain, dy...   \n4     [chronic adjustment disorders, adjustment diso...   \n...                                                 ...   \n1093         [tremors, spasms, involuntary muscle jerk]   \n1094  [conjunctivitis, dengue, fever rash, muscle pa...   \n1095  [weight loss, decreased appetite, zollinger-el...   \n1096  [pain, shingles rash, blisters, chronic illnes...   \n1097  [learning delays, heart defect cleft palate, 2...   \n\n                            name  \n0           Acanthosis nigricans  \n1        Achilles tendon rupture  \n2        Acute coronary syndrome  \n3                    Adenomyosis  \n4           Adjustment disorders  \n...                          ...  \n1093                        Yips  \n1094                  Zika virus  \n1095  Zollinger-Ellison syndrome  \n1096                      Zoster  \n1097   22q11.2 deletion syndrome  \n\n[1098 rows x 2 columns]",
      "text/html": "<div>\n<style scoped>\n    .dataframe tbody tr th:only-of-type {\n        vertical-align: middle;\n    }\n\n    .dataframe tbody tr th {\n        vertical-align: top;\n    }\n\n    .dataframe thead th {\n        text-align: right;\n    }\n</style>\n<table border=\"1\" class=\"dataframe\">\n  <thead>\n    <tr style=\"text-align: right;\">\n      <th></th>\n      <th>symptom_list</th>\n      <th>name</th>\n    </tr>\n  </thead>\n  <tbody>\n    <tr>\n      <th>0</th>\n      <td>[itch, acanthosis nigricans]</td>\n      <td>Acanthosis nigricans</td>\n    </tr>\n    <tr>\n      <th>1</th>\n      <td>[pain, inability to bend the foot downward or ...</td>\n      <td>Achilles tendon rupture</td>\n    </tr>\n    <tr>\n      <th>2</th>\n      <td>[chest pain angina, diabetes, dyspnea, chest p...</td>\n      <td>Acute coronary syndrome</td>\n    </tr>\n    <tr>\n      <th>3</th>\n      <td>[prolonged menstrual bleeding, pelvic pain, dy...</td>\n      <td>Adenomyosis</td>\n    </tr>\n    <tr>\n      <th>4</th>\n      <td>[chronic adjustment disorders, adjustment diso...</td>\n      <td>Adjustment disorders</td>\n    </tr>\n    <tr>\n      <th>...</th>\n      <td>...</td>\n      <td>...</td>\n    </tr>\n    <tr>\n      <th>1093</th>\n      <td>[tremors, spasms, involuntary muscle jerk]</td>\n      <td>Yips</td>\n    </tr>\n    <tr>\n      <th>1094</th>\n      <td>[conjunctivitis, dengue, fever rash, muscle pa...</td>\n      <td>Zika virus</td>\n    </tr>\n    <tr>\n      <th>1095</th>\n      <td>[weight loss, decreased appetite, zollinger-el...</td>\n      <td>Zollinger-Ellison syndrome</td>\n    </tr>\n    <tr>\n      <th>1096</th>\n      <td>[pain, shingles rash, blisters, chronic illnes...</td>\n      <td>Zoster</td>\n    </tr>\n    <tr>\n      <th>1097</th>\n      <td>[learning delays, heart defect cleft palate, 2...</td>\n      <td>22q11.2 deletion syndrome</td>\n    </tr>\n  </tbody>\n</table>\n<p>1098 rows × 2 columns</p>\n</div>"
     },
     "execution_count": 16,
     "metadata": {},
     "output_type": "execute_result"
    }
   ],
   "source": [
    "dis_sym"
   ],
   "metadata": {
    "collapsed": false,
    "pycharm": {
     "name": "#%%\n"
    }
   }
  },
  {
   "cell_type": "code",
   "execution_count": 12,
   "outputs": [
    {
     "name": "stderr",
     "output_type": "stream",
     "text": [
      "C:\\Users\\developer\\AppData\\Local\\Temp\\ipykernel_1396\\2959172240.py:9: SettingWithCopyWarning: \n",
      "A value is trying to be set on a copy of a slice from a DataFrame.\n",
      "Try using .loc[row_indexer,col_indexer] = value instead\n",
      "\n",
      "See the caveats in the documentation: https://pandas.pydata.org/pandas-docs/stable/user_guide/indexing.html#returning-a-view-versus-a-copy\n",
      "  dis_sym[\"score\"] = dis_sym.apply(filter_fn, symptoms=symptom_list, axis=1)\n"
     ]
    }
   ],
   "source": [
    "def get_matching_diseases(symptom_list):\n",
    "    import pandas as pd\n",
    "    data = pd.read_csv('disease_data/df_diseases_processed.csv')\n",
    "    # data[['name', 'symptom_list']]\n",
    "    data['symptom_list'] = data['symptom_list'].apply(string_to_list)\n",
    "    dis_sym = data[['symptom_list', 'name']]\n",
    "    # dis_sym\n",
    "    # symptom_list=[\"fever\", \"itch\",\"fatigue\"]\n",
    "    dis_sym[\"score\"] = dis_sym.apply(filter_fn, symptoms=symptom_list, axis=1)\n",
    "    result = dis_sym[dis_sym[\"score\"] > 0]\n",
    "    # result.sort_values(by=[\"score\",\"name\"],ascending=False)\n",
    "    result = result[result['score'] == result['score'].max()].sort_values(by=[\"score\",\"name\"])\n",
    "    return result.set_index('name').to_dict('index')\n",
    "\n",
    "\n",
    "symptom_list = ['stomachache ', 'fever','skin discoloration','blisters']\n",
    "potential_diseases = get_matching_diseases(symptom_list)\n"
   ],
   "metadata": {
    "collapsed": false,
    "pycharm": {
     "name": "#%%\n"
    }
   }
  },
  {
   "cell_type": "code",
   "execution_count": 13,
   "outputs": [
    {
     "data": {
      "text/plain": "{'Gangrene': {'symptom_list': ['trauma',\n   'pain',\n   'blisters',\n   'sudden pain',\n   'septic shock',\n   'blisters or lesions',\n   'shortness of breath confusion',\n   'numbness a foul-smelling',\n   'bacterial infection',\n   'fever',\n   'skin discoloration',\n   'gangrenous',\n   'sore',\n   'gangrene'],\n  'score': 3}}"
     },
     "execution_count": 13,
     "metadata": {},
     "output_type": "execute_result"
    }
   ],
   "source": [
    "potential_diseases"
   ],
   "metadata": {
    "collapsed": false,
    "pycharm": {
     "name": "#%%\n"
    }
   }
  },
  {
   "cell_type": "code",
   "execution_count": 29,
   "outputs": [
    {
     "data": {
      "text/plain": "['Aspergillosis',\n 'Bronchitis',\n 'Brucellosis',\n 'Common cold',\n 'Dengue hemorrhagic fever (See: Dengue fever)',\n 'Fever']"
     },
     "execution_count": 29,
     "metadata": {},
     "output_type": "execute_result"
    }
   ],
   "source": [
    "\n",
    "# dis_list=list(potential_diseases.keys())\n",
    "dis_list=['Aspergillosis',\n",
    " 'Bronchitis',\n",
    " 'Brucellosis',\n",
    " 'Common cold',\n",
    " 'Dengue hemorrhagic fever (See: Dengue fever)',\n",
    " 'Fever']\n",
    "dis_list"
   ],
   "metadata": {
    "collapsed": false,
    "pycharm": {
     "name": "#%%\n"
    }
   }
  },
  {
   "cell_type": "code",
   "execution_count": 32,
   "outputs": [
    {
     "data": {
      "text/plain": "'Aspergillosis\\nBronchitis\\nBrucellosis\\nCommon cold\\nDengue hemorrhagic fever (See: Dengue fever)\\nFever'"
     },
     "execution_count": 32,
     "metadata": {},
     "output_type": "execute_result"
    }
   ],
   "source": [
    "result = '\\n'.join(dis_list)\n",
    "result"
   ],
   "metadata": {
    "collapsed": false,
    "pycharm": {
     "name": "#%%\n"
    }
   }
  },
  {
   "cell_type": "code",
   "execution_count": 26,
   "outputs": [
    {
     "data": {
      "text/plain": "['one', 'two', 'three']"
     },
     "execution_count": 26,
     "metadata": {},
     "output_type": "execute_result"
    }
   ],
   "source": [
    "my_list = ['one', 'two', 'three']\n",
    "my_list"
   ],
   "metadata": {
    "collapsed": false,
    "pycharm": {
     "name": "#%%\n"
    }
   }
  },
  {
   "cell_type": "code",
   "execution_count": null,
   "outputs": [],
   "source": [
    "result = '\\n'.join(my_list)\n",
    "\n",
    "# 👇️one\n",
    "# two\n",
    "# three\n",
    "print(result)\n"
   ],
   "metadata": {
    "collapsed": false,
    "pycharm": {
     "name": "#%%\n"
    }
   }
  }
 ],
 "metadata": {
  "kernelspec": {
   "display_name": "Python 3",
   "language": "python",
   "name": "python3"
  },
  "language_info": {
   "codemirror_mode": {
    "name": "ipython",
    "version": 2
   },
   "file_extension": ".py",
   "mimetype": "text/x-python",
   "name": "python",
   "nbconvert_exporter": "python",
   "pygments_lexer": "ipython2",
   "version": "2.7.6"
  }
 },
 "nbformat": 4,
 "nbformat_minor": 0
}