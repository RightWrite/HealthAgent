{
 "cells": [
  {
   "cell_type": "code",
   "execution_count": 2,
   "metadata": {
    "collapsed": true,
    "pycharm": {
     "name": "#%%\n"
    }
   },
   "outputs": [],
   "source": [
    "import pandas as pd"
   ]
  },
  {
   "cell_type": "code",
   "execution_count": 13,
   "outputs": [],
   "source": [
    "data=pd.read_csv('disease_data/df_diseases.csv',encoding='latin1')\n",
    "# data=pd.read_csv('disease_data/disease_components.csv',encoding='latin1')"
   ],
   "metadata": {
    "collapsed": false,
    "pycharm": {
     "name": "#%%\n"
    }
   }
  },
  {
   "cell_type": "code",
   "execution_count": 14,
   "outputs": [
    {
     "data": {
      "text/plain": "Index(['Unnamed: 0', 'name', 'link', 'symptoms', 'causes', 'risk_factor',\n       'overview', 'treatment', 'medication', 'home_remedies'],\n      dtype='object')"
     },
     "execution_count": 14,
     "metadata": {},
     "output_type": "execute_result"
    }
   ],
   "source": [
    "data.columns"
   ],
   "metadata": {
    "collapsed": false,
    "pycharm": {
     "name": "#%%\n"
    }
   }
  },
  {
   "cell_type": "code",
   "execution_count": 16,
   "outputs": [
    {
     "name": "stdout",
     "output_type": "stream",
     "text": [
      "<class 'pandas.core.frame.DataFrame'>\n",
      "RangeIndex: 1182 entries, 0 to 1181\n",
      "Data columns (total 10 columns):\n",
      " #   Column         Non-Null Count  Dtype \n",
      "---  ------         --------------  ----- \n",
      " 0   Unnamed: 0     1182 non-null   int64 \n",
      " 1   name           1182 non-null   object\n",
      " 2   link           1182 non-null   object\n",
      " 3   symptoms       1098 non-null   object\n",
      " 4   causes         1087 non-null   object\n",
      " 5   risk_factor    924 non-null    object\n",
      " 6   overview       1144 non-null   object\n",
      " 7   treatment      1147 non-null   object\n",
      " 8   medication     294 non-null    object\n",
      " 9   home_remedies  570 non-null    object\n",
      "dtypes: int64(1), object(9)\n",
      "memory usage: 92.5+ KB\n"
     ]
    }
   ],
   "source": [
    "data.info()"
   ],
   "metadata": {
    "collapsed": false,
    "pycharm": {
     "name": "#%%\n"
    }
   }
  },
  {
   "cell_type": "code",
   "execution_count": 17,
   "outputs": [
    {
     "data": {
      "text/plain": "   Unnamed: 0                     name  \\\n0           0     Acanthosis nigricans   \n1           1                Achalasia   \n2           2  Achilles tendon rupture   \n3           3  Acute coronary syndrome   \n4           4              Adenomyosis   \n5           5     Adjustment disorders   \n6           6           Adnexal tumors   \n7           7           Adrenal cancer   \n8           8     Adrenoleukodystrophy   \n9           9    Adult Still's disease   \n\n                                                link  \\\n0  https://www.mayoclinic.org/diseases-conditions...   \n1  https://www.mayoclinic.org/diseases-conditions...   \n2  https://www.mayoclinic.org/diseases-conditions...   \n3  https://www.mayoclinic.org/diseases-conditions...   \n4  https://www.mayoclinic.org/diseases-conditions...   \n5  https://www.mayoclinic.org/diseases-conditions...   \n6  https://www.mayoclinic.org/diseases-conditions...   \n7  https://www.mayoclinic.org/diseases-conditions...   \n8  https://www.mayoclinic.org/diseases-conditions...   \n9  https://www.mayoclinic.org/diseases-conditions...   \n\n                                            symptoms  \\\n0  [\"Skin changes are the only signs of acanthosi...   \n1                                                NaN   \n2  [\"Although it's possible to have no signs or s...   \n3  ['The signs and symptoms of acute coronary syn...   \n4  ['Sometimes, adenomyosis causes no signs or sy...   \n5  ['Signs and symptoms depend on the type of adj...   \n6                                                NaN   \n7  ['Signs and symptoms of adrenal cancer include...   \n8                                                NaN   \n9  [\"Most people with adult Still's disease have ...   \n\n                                              causes  \\\n0  ['Acanthosis nigricans has been associated wit...   \n1                                                NaN   \n2  ['Your Achilles tendon helps you point your fo...   \n3  ['Acute coronary syndrome usually results from...   \n4  [\"The cause of adenomyosis isn't known. There ...   \n5  ['Adjustment disorders are caused by significa...   \n6                                                NaN   \n7  [\"It's not clear what causes adrenal cancer.\",...   \n8                                                NaN   \n9  [\"It's not certain what causes adult Still's d...   \n\n                                         risk_factor  \\\n0  ['Acanthosis nigricans risk factors include:',...   \n1                                                NaN   \n2  ['Factors that may increase your risk of Achil...   \n3  ['The risk factors for acute coronary syndrome...   \n4  ['Risk factors for adenomyosis include:', 'Mos...   \n5  ['Some things may make you more likely to have...   \n6                                                NaN   \n7  ['Adrenal cancer happens more often in people ...   \n8                                                NaN   \n9  [\"Age is the main risk factor for adult Still'...   \n\n                                            overview  \\\n0  ['Acanthosis nigricans is a skin condition tha...   \n1  [\"Achalasia is a rare disorder that makes it d...   \n2  ['The Achilles tendon is a strong fibrous cord...   \n3  ['Acute coronary syndrome is a term used to de...   \n4  ['With adenomyosis, the same tissue that lines...   \n5  ['Adjustment disorders are stress-related cond...   \n6  ['The ovaries, fallopian tubes, uterus, cervix...   \n7  ['Perched atop each of your kidneys, your adre...   \n8  ['Adrenoleukodystrophy (uh-dree-noh-loo-koh-DI...   \n9  [\"Adult Still's disease is a rare type of infl...   \n\n                                           treatment  \\\n0  ['In many situations, treating the underlying ...   \n1  ['Achalasia treatment focuses on relaxing or f...   \n2  ['Treatment for a ruptured Achilles tendon oft...   \n3  ['The immediate goals of treatment for acute c...   \n4  ['Adenomyosis often goes away after menopause,...   \n5  ['Many people with adjustment disorders find t...   \n6                                                NaN   \n7  [\"Adrenal cancer treatment usually involves su...   \n8  ['Adrenoleukodystrophy has no cure. However, s...   \n9  [\"Doctors use a variety of drugs to treat adul...   \n\n                                          medication  \\\n0                                                NaN   \n1                                                NaN   \n2                                                NaN   \n3  ['Depending on your diagnosis, medications for...   \n4                                                NaN   \n5  ['Medications such as antidepressants and anti...   \n6                                                NaN   \n7                                                NaN   \n8                                                NaN   \n9                                                NaN   \n\n                                       home_remedies  \n0                                                NaN  \n1                                                NaN  \n2                                                NaN  \n3  ['Heart healthy lifestyle changes are an impor...  \n4  ['To ease pelvic pain and cramping related to ...  \n5  ['Here are some steps you can take to care for...  \n6                                                NaN  \n7                                                NaN  \n8                                                NaN  \n9  [\"Here are ways to make the most of your healt...  ",
      "text/html": "<div>\n<style scoped>\n    .dataframe tbody tr th:only-of-type {\n        vertical-align: middle;\n    }\n\n    .dataframe tbody tr th {\n        vertical-align: top;\n    }\n\n    .dataframe thead th {\n        text-align: right;\n    }\n</style>\n<table border=\"1\" class=\"dataframe\">\n  <thead>\n    <tr style=\"text-align: right;\">\n      <th></th>\n      <th>Unnamed: 0</th>\n      <th>name</th>\n      <th>link</th>\n      <th>symptoms</th>\n      <th>causes</th>\n      <th>risk_factor</th>\n      <th>overview</th>\n      <th>treatment</th>\n      <th>medication</th>\n      <th>home_remedies</th>\n    </tr>\n  </thead>\n  <tbody>\n    <tr>\n      <th>0</th>\n      <td>0</td>\n      <td>Acanthosis nigricans</td>\n      <td>https://www.mayoclinic.org/diseases-conditions...</td>\n      <td>[\"Skin changes are the only signs of acanthosi...</td>\n      <td>['Acanthosis nigricans has been associated wit...</td>\n      <td>['Acanthosis nigricans risk factors include:',...</td>\n      <td>['Acanthosis nigricans is a skin condition tha...</td>\n      <td>['In many situations, treating the underlying ...</td>\n      <td>NaN</td>\n      <td>NaN</td>\n    </tr>\n    <tr>\n      <th>1</th>\n      <td>1</td>\n      <td>Achalasia</td>\n      <td>https://www.mayoclinic.org/diseases-conditions...</td>\n      <td>NaN</td>\n      <td>NaN</td>\n      <td>NaN</td>\n      <td>[\"Achalasia is a rare disorder that makes it d...</td>\n      <td>['Achalasia treatment focuses on relaxing or f...</td>\n      <td>NaN</td>\n      <td>NaN</td>\n    </tr>\n    <tr>\n      <th>2</th>\n      <td>2</td>\n      <td>Achilles tendon rupture</td>\n      <td>https://www.mayoclinic.org/diseases-conditions...</td>\n      <td>[\"Although it's possible to have no signs or s...</td>\n      <td>['Your Achilles tendon helps you point your fo...</td>\n      <td>['Factors that may increase your risk of Achil...</td>\n      <td>['The Achilles tendon is a strong fibrous cord...</td>\n      <td>['Treatment for a ruptured Achilles tendon oft...</td>\n      <td>NaN</td>\n      <td>NaN</td>\n    </tr>\n    <tr>\n      <th>3</th>\n      <td>3</td>\n      <td>Acute coronary syndrome</td>\n      <td>https://www.mayoclinic.org/diseases-conditions...</td>\n      <td>['The signs and symptoms of acute coronary syn...</td>\n      <td>['Acute coronary syndrome usually results from...</td>\n      <td>['The risk factors for acute coronary syndrome...</td>\n      <td>['Acute coronary syndrome is a term used to de...</td>\n      <td>['The immediate goals of treatment for acute c...</td>\n      <td>['Depending on your diagnosis, medications for...</td>\n      <td>['Heart healthy lifestyle changes are an impor...</td>\n    </tr>\n    <tr>\n      <th>4</th>\n      <td>4</td>\n      <td>Adenomyosis</td>\n      <td>https://www.mayoclinic.org/diseases-conditions...</td>\n      <td>['Sometimes, adenomyosis causes no signs or sy...</td>\n      <td>[\"The cause of adenomyosis isn't known. There ...</td>\n      <td>['Risk factors for adenomyosis include:', 'Mos...</td>\n      <td>['With adenomyosis, the same tissue that lines...</td>\n      <td>['Adenomyosis often goes away after menopause,...</td>\n      <td>NaN</td>\n      <td>['To ease pelvic pain and cramping related to ...</td>\n    </tr>\n    <tr>\n      <th>5</th>\n      <td>5</td>\n      <td>Adjustment disorders</td>\n      <td>https://www.mayoclinic.org/diseases-conditions...</td>\n      <td>['Signs and symptoms depend on the type of adj...</td>\n      <td>['Adjustment disorders are caused by significa...</td>\n      <td>['Some things may make you more likely to have...</td>\n      <td>['Adjustment disorders are stress-related cond...</td>\n      <td>['Many people with adjustment disorders find t...</td>\n      <td>['Medications such as antidepressants and anti...</td>\n      <td>['Here are some steps you can take to care for...</td>\n    </tr>\n    <tr>\n      <th>6</th>\n      <td>6</td>\n      <td>Adnexal tumors</td>\n      <td>https://www.mayoclinic.org/diseases-conditions...</td>\n      <td>NaN</td>\n      <td>NaN</td>\n      <td>NaN</td>\n      <td>['The ovaries, fallopian tubes, uterus, cervix...</td>\n      <td>NaN</td>\n      <td>NaN</td>\n      <td>NaN</td>\n    </tr>\n    <tr>\n      <th>7</th>\n      <td>7</td>\n      <td>Adrenal cancer</td>\n      <td>https://www.mayoclinic.org/diseases-conditions...</td>\n      <td>['Signs and symptoms of adrenal cancer include...</td>\n      <td>[\"It's not clear what causes adrenal cancer.\",...</td>\n      <td>['Adrenal cancer happens more often in people ...</td>\n      <td>['Perched atop each of your kidneys, your adre...</td>\n      <td>[\"Adrenal cancer treatment usually involves su...</td>\n      <td>NaN</td>\n      <td>NaN</td>\n    </tr>\n    <tr>\n      <th>8</th>\n      <td>8</td>\n      <td>Adrenoleukodystrophy</td>\n      <td>https://www.mayoclinic.org/diseases-conditions...</td>\n      <td>NaN</td>\n      <td>NaN</td>\n      <td>NaN</td>\n      <td>['Adrenoleukodystrophy (uh-dree-noh-loo-koh-DI...</td>\n      <td>['Adrenoleukodystrophy has no cure. However, s...</td>\n      <td>NaN</td>\n      <td>NaN</td>\n    </tr>\n    <tr>\n      <th>9</th>\n      <td>9</td>\n      <td>Adult Still's disease</td>\n      <td>https://www.mayoclinic.org/diseases-conditions...</td>\n      <td>[\"Most people with adult Still's disease have ...</td>\n      <td>[\"It's not certain what causes adult Still's d...</td>\n      <td>[\"Age is the main risk factor for adult Still'...</td>\n      <td>[\"Adult Still's disease is a rare type of infl...</td>\n      <td>[\"Doctors use a variety of drugs to treat adul...</td>\n      <td>NaN</td>\n      <td>[\"Here are ways to make the most of your healt...</td>\n    </tr>\n  </tbody>\n</table>\n</div>"
     },
     "execution_count": 17,
     "metadata": {},
     "output_type": "execute_result"
    }
   ],
   "source": [
    "data.head(10)"
   ],
   "metadata": {
    "collapsed": false,
    "pycharm": {
     "name": "#%%\n"
    }
   }
  },
  {
   "cell_type": "code",
   "execution_count": null,
   "outputs": [],
   "source": [],
   "metadata": {
    "collapsed": false,
    "pycharm": {
     "name": "#%%\n"
    }
   }
  }
 ],
 "metadata": {
  "kernelspec": {
   "display_name": "Python 3",
   "language": "python",
   "name": "python3"
  },
  "language_info": {
   "codemirror_mode": {
    "name": "ipython",
    "version": 2
   },
   "file_extension": ".py",
   "mimetype": "text/x-python",
   "name": "python",
   "nbconvert_exporter": "python",
   "pygments_lexer": "ipython2",
   "version": "2.7.6"
  }
 },
 "nbformat": 4,
 "nbformat_minor": 0
}