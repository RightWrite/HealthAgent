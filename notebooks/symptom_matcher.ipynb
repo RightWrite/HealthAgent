{
 "cells": [
  {
   "cell_type": "code",
   "execution_count": 6,
   "outputs": [],
   "source": [
    "def string_to_list(input_string: str):\n",
    "    import json\n",
    "    if len(input_string.strip()) > 1:\n",
    "        temp = input_string.replace(\"'\", \"\\\"\").lower()\n",
    "        list_result = json.loads(temp)\n",
    "        return list(set(list_result))\n",
    "    else:\n",
    "        return []\n",
    "\n"
   ],
   "metadata": {
    "collapsed": false,
    "pycharm": {
     "name": "#%%\n"
    }
   }
  },
  {
   "cell_type": "code",
   "execution_count": 7,
   "outputs": [],
   "source": [
    "def filter_fn(row, symptoms):\n",
    "    count = 0\n",
    "    for s in symptoms:\n",
    "        if s in row['symptom_list']:\n",
    "            count = count + 1\n",
    "        # else:\n",
    "        #     return False\n",
    "    return count\n",
    "\n"
   ],
   "metadata": {
    "collapsed": false,
    "pycharm": {
     "name": "#%%\n"
    }
   }
  },
  {
   "cell_type": "code",
   "execution_count": 33,
   "outputs": [
    {
     "name": "stderr",
     "output_type": "stream",
     "text": [
      "C:\\Users\\developer\\AppData\\Local\\Temp\\ipykernel_17304\\158587440.py:9: SettingWithCopyWarning: \n",
      "A value is trying to be set on a copy of a slice from a DataFrame.\n",
      "Try using .loc[row_indexer,col_indexer] = value instead\n",
      "\n",
      "See the caveats in the documentation: https://pandas.pydata.org/pandas-docs/stable/user_guide/indexing.html#returning-a-view-versus-a-copy\n",
      "  dis_sym[\"score\"] = dis_sym.apply(filter_fn, symptoms=symptom_list, axis=1)\n"
     ]
    }
   ],
   "source": [
    "def get_matching_diseases(symptom_list):\n",
    "    import pandas as pd\n",
    "    data = pd.read_csv('disease_data/df_diseases_processed.csv')\n",
    "    data[['name', 'symptom_list']]\n",
    "    data['symptom_list'] = data['symptom_list'].apply(string_to_list)\n",
    "    dis_sym = data[['symptom_list', 'name']]\n",
    "    dis_sym\n",
    "    # symptom_list=[\"fever\", \"itch\",\"fatigue\"]\n",
    "    dis_sym[\"score\"] = dis_sym.apply(filter_fn, symptoms=symptom_list, axis=1)\n",
    "    result = dis_sym[dis_sym[\"score\"] > 0]\n",
    "    # result.sort_values(by=[\"score\",\"name\"],ascending=False)\n",
    "    result = result[result['score'] == result['score'].max()].sort_values(by=[\"score\",\"name\"])\n",
    "    return result.set_index('name').to_dict('index')\n",
    "\n",
    "\n",
    "symptom_list = ['stomachache ', 'fever']\n",
    "potential_diseases = get_matching_diseases(symptom_list)\n"
   ],
   "metadata": {
    "collapsed": false,
    "pycharm": {
     "name": "#%%\n"
    }
   }
  },
  {
   "cell_type": "code",
   "execution_count": 36,
   "outputs": [
    {
     "data": {
      "text/plain": "{'symptom_list': ['febrile seizure',\n  'headache',\n  'febrile seizures',\n  'rash',\n  'convulsions',\n  'pain',\n  'chest pain',\n  'irritable vomits',\n  'cough',\n  'abdominal pain',\n  'fever',\n  'diarrhea',\n  'confusion',\n  'seizures',\n  'stomachache',\n  'irritable',\n  'sweating chills',\n  'headache muscle aches'],\n 'score': 1}"
     },
     "execution_count": 36,
     "metadata": {},
     "output_type": "execute_result"
    }
   ],
   "source": [
    "potential_diseases['Fever']"
   ],
   "metadata": {
    "collapsed": false,
    "pycharm": {
     "name": "#%%\n"
    }
   }
  },
  {
   "cell_type": "code",
   "execution_count": 29,
   "outputs": [
    {
     "data": {
      "text/plain": "['Aspergillosis',\n 'Bronchitis',\n 'Brucellosis',\n 'Common cold',\n 'Dengue hemorrhagic fever (See: Dengue fever)',\n 'Fever']"
     },
     "execution_count": 29,
     "metadata": {},
     "output_type": "execute_result"
    }
   ],
   "source": [
    "\n",
    "# dis_list=list(potential_diseases.keys())\n",
    "dis_list=['Aspergillosis',\n",
    " 'Bronchitis',\n",
    " 'Brucellosis',\n",
    " 'Common cold',\n",
    " 'Dengue hemorrhagic fever (See: Dengue fever)',\n",
    " 'Fever']\n",
    "dis_list"
   ],
   "metadata": {
    "collapsed": false,
    "pycharm": {
     "name": "#%%\n"
    }
   }
  },
  {
   "cell_type": "code",
   "execution_count": 32,
   "outputs": [
    {
     "data": {
      "text/plain": "'Aspergillosis\\nBronchitis\\nBrucellosis\\nCommon cold\\nDengue hemorrhagic fever (See: Dengue fever)\\nFever'"
     },
     "execution_count": 32,
     "metadata": {},
     "output_type": "execute_result"
    }
   ],
   "source": [
    "result = '\\n'.join(dis_list)\n",
    "result"
   ],
   "metadata": {
    "collapsed": false,
    "pycharm": {
     "name": "#%%\n"
    }
   }
  },
  {
   "cell_type": "code",
   "execution_count": 26,
   "outputs": [
    {
     "data": {
      "text/plain": "['one', 'two', 'three']"
     },
     "execution_count": 26,
     "metadata": {},
     "output_type": "execute_result"
    }
   ],
   "source": [
    "my_list = ['one', 'two', 'three']\n",
    "my_list"
   ],
   "metadata": {
    "collapsed": false,
    "pycharm": {
     "name": "#%%\n"
    }
   }
  },
  {
   "cell_type": "code",
   "execution_count": null,
   "outputs": [],
   "source": [
    "result = '\\n'.join(my_list)\n",
    "\n",
    "# 👇️one\n",
    "# two\n",
    "# three\n",
    "print(result)\n"
   ],
   "metadata": {
    "collapsed": false,
    "pycharm": {
     "name": "#%%\n"
    }
   }
  }
 ],
 "metadata": {
  "kernelspec": {
   "display_name": "Python 3",
   "language": "python",
   "name": "python3"
  },
  "language_info": {
   "codemirror_mode": {
    "name": "ipython",
    "version": 2
   },
   "file_extension": ".py",
   "mimetype": "text/x-python",
   "name": "python",
   "nbconvert_exporter": "python",
   "pygments_lexer": "ipython2",
   "version": "2.7.6"
  }
 },
 "nbformat": 4,
 "nbformat_minor": 0
}